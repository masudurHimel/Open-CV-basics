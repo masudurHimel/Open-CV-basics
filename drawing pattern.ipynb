{
 "cells": [
  {
   "cell_type": "code",
   "execution_count": 2,
   "metadata": {},
   "outputs": [],
   "source": [
    "import cv2\n",
    "import numpy as np"
   ]
  },
  {
   "cell_type": "code",
   "execution_count": 4,
   "metadata": {},
   "outputs": [],
   "source": [
    "img = cv2.imread('images/1.jpeg',1)\n",
    "\n",
    "cv2.line(img, (0,0), (255,255), (255,0,0), 5)\n",
    "cv2.arrowedLine(img, (0,255), (255,255), (255,0,0), 5)\n",
    "cv2.rectangle(img, (600,0),(200,200),(255,0,0),5)\n",
    "cv2.rectangle(img, (10,10),(150,150),(255,0,0),-1)\n",
    "cv2.circle(img,(300,300),100,(0,0,255),3)\n",
    "#text\n",
    "font = cv2.FONT_HERSHEY_COMPLEX\n",
    "cv2.putText(img,\"Khela hbe\", (60,100),font,4,(0,255,0),6,cv2.LINE_AA)\n",
    "\n",
    "cv2.imshow('image',img)\n",
    "\n",
    "\n",
    "cv2.waitKey(5000)\n",
    "cv2.destroyAllWindows()"
   ]
  },
  {
   "cell_type": "code",
   "execution_count": 5,
   "metadata": {},
   "outputs": [],
   "source": [
    "#creeating a black image\n",
    "\n",
    "img  = np.zeros([512,900,3\n",
    "], np.uint8)\n",
    "\n",
    "cv2.line(img, (0,0), (255,255), (255,0,0), 5)\n",
    "cv2.arrowedLine(img, (0,255), (255,255), (255,0,0), 5)\n",
    "cv2.rectangle(img, (600,0),(200,200),(255,0,0),5)\n",
    "cv2.rectangle(img, (10,10),(150,150),(255,0,0),-1)\n",
    "cv2.circle(img,(300,300),100,(0,0,255),3)\n",
    "#text\n",
    "font = cv2.FONT_HERSHEY_COMPLEX\n",
    "cv2.putText(img,\"Khela hbe\", (60,100),font,4,(0,255,0),6,cv2.LINE_AA)\n",
    "\n",
    "cv2.imshow('image',img)\n",
    "\n",
    "\n",
    "cv2.waitKey(5000)\n",
    "cv2.destroyAllWindows()"
   ]
  },
  {
   "cell_type": "code",
   "execution_count": null,
   "metadata": {},
   "outputs": [],
   "source": []
  }
 ],
 "metadata": {
  "kernelspec": {
   "display_name": "Python 3",
   "language": "python",
   "name": "python3"
  },
  "language_info": {
   "codemirror_mode": {
    "name": "ipython",
    "version": 3
   },
   "file_extension": ".py",
   "mimetype": "text/x-python",
   "name": "python",
   "nbconvert_exporter": "python",
   "pygments_lexer": "ipython3",
   "version": "3.7.3"
  }
 },
 "nbformat": 4,
 "nbformat_minor": 2
}
