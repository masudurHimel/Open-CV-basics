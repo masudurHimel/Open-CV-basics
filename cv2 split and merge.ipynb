{
 "cells": [
  {
   "cell_type": "code",
   "execution_count": 2,
   "metadata": {},
   "outputs": [],
   "source": [
    "import numpy as np\n",
    "import cv2 "
   ]
  },
  {
   "cell_type": "code",
   "execution_count": 9,
   "metadata": {},
   "outputs": [],
   "source": [
    "img = cv2.imread('images/1.jpeg')\n",
    "cv2.imshow('image',img)\n",
    "cv2.waitKey(0)\n",
    "cv2.destroyAllWindows()"
   ]
  },
  {
   "cell_type": "code",
   "execution_count": 10,
   "metadata": {},
   "outputs": [],
   "source": [
    "b,g,r = cv2.split(img)"
   ]
  },
  {
   "cell_type": "code",
   "execution_count": 11,
   "metadata": {},
   "outputs": [
    {
     "name": "stdout",
     "output_type": "stream",
     "text": [
      "[[ 86  86  73 ... 192 184 189]\n",
      " [ 77  76  76 ... 192 192 194]\n",
      " [ 64  77  79 ... 187 188 188]\n",
      " ...\n",
      " [ 14   3   5 ...   9   3   0]\n",
      " [ 21  15  26 ...  24  24  15]\n",
      " [ 16  21  29 ...  22  16  22]] [[ 75  75  58 ... 191 184 188]\n",
      " [ 65  64  61 ... 188 189 191]\n",
      " [ 52  65  63 ... 181 183 183]\n",
      " ...\n",
      " [ 31  22  28 ...  20  15   9]\n",
      " [ 45  42  55 ...  41  43  34]\n",
      " [ 51  56  64 ...  45  44  52]] [[ 14  15   2 ... 148 138 143]\n",
      " [  6   5   4 ... 145 144 146]\n",
      " [  0   7   9 ... 139 138 138]\n",
      " ...\n",
      " [  8   0   6 ...   7   1   0]\n",
      " [ 21  17  30 ...  24  27  17]\n",
      " [ 22  27  35 ...  23  21  29]]\n"
     ]
    }
   ],
   "source": [
    "print(b,g,r)"
   ]
  },
  {
   "cell_type": "code",
   "execution_count": 21,
   "metadata": {},
   "outputs": [],
   "source": [
    "img2 = cv2.merge((b,g,r))\n",
    "cv2.imshow('image',img2)\n",
    "cv2.waitKey(0)\n",
    "cv2.destroyAllWindows()"
   ]
  },
  {
   "cell_type": "code",
   "execution_count": 33,
   "metadata": {},
   "outputs": [],
   "source": [
    "temp = img[300:400,400:500]\n",
    "img[100:200, 200:300] = temp\n",
    "cv2.imshow('image',img)\n",
    "cv2.waitKey(0)\n",
    "cv2.destroyAllWindows()"
   ]
  },
  {
   "cell_type": "code",
   "execution_count": 47,
   "metadata": {},
   "outputs": [],
   "source": [
    "img1 = cv2.imread('images/1.jpeg')\n",
    "img2 = cv2.imread('images/2.jpeg')\n",
    "\n",
    "img1 = cv2.resize(img1,(520,520))\n",
    "img2 = cv2.resize(img2,(520,520))"
   ]
  },
  {
   "cell_type": "code",
   "execution_count": 55,
   "metadata": {},
   "outputs": [],
   "source": [
    "dst = cv2.addWeighted(img1,.7,img2,.3,0)\n",
    "cv2.imshow('image',dst)\n",
    "cv2.waitKey(0)\n",
    "cv2.destroyAllWindows()"
   ]
  },
  {
   "cell_type": "code",
   "execution_count": null,
   "metadata": {},
   "outputs": [],
   "source": []
  }
 ],
 "metadata": {
  "kernelspec": {
   "display_name": "Python 3",
   "language": "python",
   "name": "python3"
  },
  "language_info": {
   "codemirror_mode": {
    "name": "ipython",
    "version": 3
   },
   "file_extension": ".py",
   "mimetype": "text/x-python",
   "name": "python",
   "nbconvert_exporter": "python",
   "pygments_lexer": "ipython3",
   "version": "3.7.3"
  }
 },
 "nbformat": 4,
 "nbformat_minor": 2
}
